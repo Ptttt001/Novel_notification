{
 "cells": [
  {
   "cell_type": "code",
   "execution_count": 17,
   "metadata": {},
   "outputs": [],
   "source": [
    "#noval\n",
    "import sqlite3\n",
    "con = sqlite3.connect('notification.db')\n",
    "cursorObj = con.cursor()\n",
    "cursorObj.execute('''CREATE TABLE noval (\n",
    "    ep INT,\n",
    "    title VARCHAR(40),\n",
    "    PRIMARY KEY (title)\n",
    ");\n",
    "''')\n",
    "con.commit()"
   ]
  },
  {
   "cell_type": "code",
   "execution_count": 18,
   "metadata": {},
   "outputs": [],
   "source": [
    "#website\n",
    "import sqlite3\n",
    "con = sqlite3.connect('notification.db')\n",
    "cursorObj = con.cursor()\n",
    "cursorObj.execute('''CREATE TABLE website (\n",
    "    domainname VARCHAR(20),\n",
    "    format VARCHAR(100),\n",
    "    PRIMARY KEY (domainname)\n",
    ");\n",
    "''')\n",
    "con.commit()"
   ]
  },
  {
   "cell_type": "code",
   "execution_count": 20,
   "metadata": {},
   "outputs": [],
   "source": [
    "#user \n",
    "import sqlite3\n",
    "con = sqlite3.connect('notification.db')\n",
    "cursorObj = con.cursor()\n",
    "cursorObj.execute('''CREATE TABLE user (\n",
    "    userid VARCHAR(50),\n",
    "    domainname VARCHAR(20),\n",
    "    title VARCHAR(40),\n",
    "    PRIMARY KEY (userid, domainname, title)\n",
    "    FOREIGN KEY (domainname) REFERENCES website(domainname)\n",
    "    FOREIGN KEY (title) REFERENCES noval(title)\n",
    ");\n",
    "''')\n",
    "\n",
    "con.commit()"
   ]
  },
  {
   "cell_type": "code",
   "execution_count": 19,
   "metadata": {},
   "outputs": [],
   "source": [
    "#have\n",
    "import sqlite3\n",
    "con = sqlite3.connect('notification.db')\n",
    "cursorObj = con.cursor()\n",
    "cursorObj.execute('''CREATE TABLE have (\n",
    "    domainname VARCHAR(20),\n",
    "    title VARCHAR(40),\n",
    "    indexs VARCHAR(20),\n",
    "    PRIMARY KEY (domainname, title),\n",
    "    FOREIGN KEY (domainname) REFERENCES website(domainname),\n",
    "    FOREIGN KEY (title) REFERENCES noval(title)\n",
    ");\n",
    "''')\n",
    "con.commit()"
   ]
  },
  {
   "cell_type": "code",
   "execution_count": 21,
   "metadata": {},
   "outputs": [
    {
     "name": "stdout",
     "output_type": "stream",
     "text": [
      "[('noval',), ('website',), ('have',), ('user',)]\n"
     ]
    }
   ],
   "source": [
    "#show all the table in the database\n",
    "import sqlite3\n",
    "con = sqlite3.connect('notification.db')\n",
    "cursorObj = con.cursor()\n",
    "cursorObj.execute('SELECT name from sqlite_master where type= \"table\"')\n",
    "print(cursorObj.fetchall())"
   ]
  },
  {
   "cell_type": "code",
   "execution_count": 15,
   "metadata": {},
   "outputs": [],
   "source": [
    "#dedlete the table\n",
    "import sqlite3\n",
    " \n",
    "con = sqlite3.connect('notification.db')\n",
    " \n",
    "def sql_fetch(con):\n",
    " \n",
    "    cursorObj = con.cursor()\n",
    " \n",
    "    cursorObj.execute('DROP table if exists [NAME]')\n",
    " \n",
    "    con.commit()\n",
    " \n",
    "sql_fetch(con)\n"
   ]
  },
  {
   "cell_type": "code",
   "execution_count": 2,
   "metadata": {},
   "outputs": [
    {
     "name": "stdout",
     "output_type": "stream",
     "text": [
      "noval:\n",
      "[(1, '協議到期，前妻改嫁死對頭')]\n",
      "website:\n",
      "[('78novel.com', 'https://78novel.com/Book/Indexd3/bookshow/bookId/index.html')]\n",
      "user:\n",
      "[('Ub6eaabe3c06cb278f6a2ec8f8f7b6496', '78novel.com', '協議到期，前妻改嫁死對頭')]\n",
      "have:\n",
      "[('78novel.com', '協議到期，前妻改嫁死對頭', '5209')]\n"
     ]
    }
   ],
   "source": [
    "#show the data in every table\n",
    "import sqlite3\n",
    "con = sqlite3.connect('notification.db')\n",
    "cursorObj = con.cursor()\n",
    "cursorObj.execute('SELECT * FROM noval')\n",
    "print(\"noval:\")\n",
    "print(cursorObj.fetchall())\n",
    "cursorObj.execute('SELECT * FROM website')\n",
    "print(\"website:\")\n",
    "print(cursorObj.fetchall())\n",
    "cursorObj.execute('SELECT * FROM user')\n",
    "print(\"user:\")\n",
    "print(cursorObj.fetchall())\n",
    "cursorObj.execute('SELECT * FROM have')\n",
    "print(\"have:\")\n",
    "print(cursorObj.fetchall())\n"
   ]
  },
  {
   "cell_type": "code",
   "execution_count": 3,
   "metadata": {},
   "outputs": [],
   "source": [
    "#delete the data in user table\n",
    "import sqlite3\n",
    "con = sqlite3.connect('notification.db')\n",
    "cursorObj = con.cursor()\n",
    "cursorObj.execute('DELETE FROM user where userid = \"U59b2c6edb626ed3b0512d0cea74bd422\"')\n",
    "con.commit()\n"
   ]
  },
  {
   "cell_type": "code",
   "execution_count": 1,
   "metadata": {},
   "outputs": [
    {
     "name": "stdout",
     "output_type": "stream",
     "text": [
      "[(1, 'https://78novel.com/Book/Indexd3/bookshow/bookId/index.html', '5209')]\n"
     ]
    }
   ],
   "source": [
    "#join select\n",
    "import sqlite3\n",
    "con = sqlite3.connect('notification.db')\n",
    "cursorObj = con.cursor()\n",
    "cursorObj.execute('''SELECT \n",
    "    noval.ep, \n",
    "    website.format, \n",
    "    have.indexs\n",
    "FROM \n",
    "    noval\n",
    "JOIN \n",
    "    have ON noval.title = have.title\n",
    "JOIN \n",
    "    website ON have.domainname = website.domainname;\n",
    "''')\n",
    "print(cursorObj.fetchall())"
   ]
  },
  {
   "cell_type": "code",
   "execution_count": 1,
   "metadata": {},
   "outputs": [],
   "source": [
    "#update the data in the table\n",
    "import sqlite3\n",
    "ep=1\n",
    "con = sqlite3.connect('notification.db')\n",
    "cursorObj = con.cursor()\n",
    "cursorObj.execute('UPDATE noval SET ep=? WHERE title=?',(ep,'協議到期，前妻改嫁死對頭'))\n",
    "con.commit()\n"
   ]
  }
 ],
 "metadata": {
  "kernelspec": {
   "display_name": "base",
   "language": "python",
   "name": "python3"
  },
  "language_info": {
   "codemirror_mode": {
    "name": "ipython",
    "version": 3
   },
   "file_extension": ".py",
   "mimetype": "text/x-python",
   "name": "python",
   "nbconvert_exporter": "python",
   "pygments_lexer": "ipython3",
   "version": "3.8.8"
  }
 },
 "nbformat": 4,
 "nbformat_minor": 2
}
