{
 "cells": [
  {
   "cell_type": "code",
   "execution_count": 17,
   "metadata": {},
   "outputs": [],
   "source": [
    "#noval\n",
    "import sqlite3\n",
    "con = sqlite3.connect('notification.db')\n",
    "cursorObj = con.cursor()\n",
    "cursorObj.execute('''CREATE TABLE noval (\n",
    "    ep INT,\n",
    "    title VARCHAR(40),\n",
    "    PRIMARY KEY (title)\n",
    ");\n",
    "''')\n",
    "con.commit()"
   ]
  },
  {
   "cell_type": "code",
   "execution_count": 18,
   "metadata": {},
   "outputs": [],
   "source": [
    "#website\n",
    "import sqlite3\n",
    "con = sqlite3.connect('notification.db')\n",
    "cursorObj = con.cursor()\n",
    "cursorObj.execute('''CREATE TABLE website (\n",
    "    domainname VARCHAR(20),\n",
    "    format VARCHAR(100),\n",
    "    PRIMARY KEY (domainname)\n",
    ");\n",
    "''')\n",
    "con.commit()"
   ]
  },
  {
   "cell_type": "code",
   "execution_count": 20,
   "metadata": {},
   "outputs": [],
   "source": [
    "#user \n",
    "import sqlite3\n",
    "con = sqlite3.connect('notification.db')\n",
    "cursorObj = con.cursor()\n",
    "cursorObj.execute('''CREATE TABLE user (\n",
    "    userid VARCHAR(50),\n",
    "    domainname VARCHAR(20),\n",
    "    title VARCHAR(40),\n",
    "    PRIMARY KEY (userid, domainname, title)\n",
    "    FOREIGN KEY (domainname) REFERENCES website(domainname)\n",
    "    FOREIGN KEY (title) REFERENCES noval(title)\n",
    ");\n",
    "''')\n",
    "\n",
    "con.commit()"
   ]
  },
  {
   "cell_type": "code",
   "execution_count": 19,
   "metadata": {},
   "outputs": [],
   "source": [
    "#have\n",
    "import sqlite3\n",
    "con = sqlite3.connect('notification.db')\n",
    "cursorObj = con.cursor()\n",
    "cursorObj.execute('''CREATE TABLE have (\n",
    "    domainname VARCHAR(20),\n",
    "    title VARCHAR(40),\n",
    "    indexs VARCHAR(20),\n",
    "    PRIMARY KEY (domainname, title),\n",
    "    FOREIGN KEY (domainname) REFERENCES website(domainname),\n",
    "    FOREIGN KEY (title) REFERENCES noval(title)\n",
    ");\n",
    "''')\n",
    "con.commit()"
   ]
  },
  {
   "cell_type": "code",
   "execution_count": 21,
   "metadata": {},
   "outputs": [
    {
     "name": "stdout",
     "output_type": "stream",
     "text": [
      "[('noval',), ('website',), ('have',), ('user',)]\n"
     ]
    }
   ],
   "source": [
    "#show all the table in the database\n",
    "import sqlite3\n",
    "con = sqlite3.connect('notification.db')\n",
    "cursorObj = con.cursor()\n",
    "cursorObj.execute('SELECT name from sqlite_master where type= \"table\"')\n",
    "print(cursorObj.fetchall())"
   ]
  },
  {
   "cell_type": "code",
   "execution_count": 15,
   "metadata": {},
   "outputs": [],
   "source": [
    "#dedlete the table\n",
    "import sqlite3\n",
    " \n",
    "con = sqlite3.connect('notification.db')\n",
    " \n",
    "def sql_fetch(con):\n",
    " \n",
    "    cursorObj = con.cursor()\n",
    " \n",
    "    cursorObj.execute('DROP table if exists [NAME]')\n",
    " \n",
    "    con.commit()\n",
    " \n",
    "sql_fetch(con)\n"
   ]
  }
 ],
 "metadata": {
  "kernelspec": {
   "display_name": "base",
   "language": "python",
   "name": "python3"
  },
  "language_info": {
   "codemirror_mode": {
    "name": "ipython",
    "version": 3
   },
   "file_extension": ".py",
   "mimetype": "text/x-python",
   "name": "python",
   "nbconvert_exporter": "python",
   "pygments_lexer": "ipython3",
   "version": "3.8.8"
  }
 },
 "nbformat": 4,
 "nbformat_minor": 2
}
